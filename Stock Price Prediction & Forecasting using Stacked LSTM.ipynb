{
 "cells": [
  {
   "cell_type": "code",
   "execution_count": 118,
   "id": "f61dd2a6",
   "metadata": {},
   "outputs": [],
   "source": [
    "import pandas_datareader as pdr\n",
    "import pandas as pd\n",
    "from tensorflow.keras.layers import Dense, LSTM\n",
    "from tensorflow.keras.models import Sequential\n",
    "import matplotlib.pyplot as plt\n",
    "import numpy as np\n",
    "from sklearn.preprocessing import MinMaxScaler\n",
    "import math\n",
    "from sklearn.metrics import mean_squared_error, r2_score"
   ]
  },
  {
   "cell_type": "code",
   "execution_count": 88,
   "id": "41913e10",
   "metadata": {},
   "outputs": [
    {
     "data": {
      "text/plain": [
       "(1258, 14)"
      ]
     },
     "execution_count": 88,
     "metadata": {},
     "output_type": "execute_result"
    }
   ],
   "source": [
    "df = pd.read_csv('AAPL.csv')\n",
    "df.head(50)\n",
    "\n",
    "df.shape"
   ]
  },
  {
   "cell_type": "code",
   "execution_count": 89,
   "id": "ab43960d",
   "metadata": {},
   "outputs": [
    {
     "data": {
      "text/plain": [
       "False"
      ]
     },
     "execution_count": 89,
     "metadata": {},
     "output_type": "execute_result"
    }
   ],
   "source": [
    "# Check for null values\n",
    "df.isnull().values.any()"
   ]
  },
  {
   "cell_type": "code",
   "execution_count": 90,
   "id": "a1583668",
   "metadata": {},
   "outputs": [
    {
     "data": {
      "text/plain": [
       "(1258, 14)"
      ]
     },
     "execution_count": 90,
     "metadata": {},
     "output_type": "execute_result"
    }
   ],
   "source": [
    "df.shape"
   ]
  },
  {
   "cell_type": "code",
   "execution_count": 91,
   "id": "d8c3fdd0",
   "metadata": {},
   "outputs": [
    {
     "data": {
      "text/plain": [
       "[<matplotlib.lines.Line2D at 0x7f161455c610>]"
      ]
     },
     "execution_count": 91,
     "metadata": {},
     "output_type": "execute_result"
    },
    {
     "data": {
      "image/png": "[encoded data removed]",
      "text/plain": [
       "<Figure size 432x288 with 1 Axes>"
      ]
     },
     "metadata": {
      "needs_background": "light"
     },
     "output_type": "display_data"
    }
   ],
   "source": [
    "plt.plot(df['close'])"
   ]
  },
  {
   "cell_type": "markdown",
   "id": "f8a05950",
   "metadata": {},
   "source": [
    "### For timeseries datasets:-\n",
    "1. Split data into train-test in sequence and not in random.\n",
    "2. Scaling the data using MinMaxScaler.\n",
    "2. Set the timestep for prediction based on previous values."
   ]
  },
  {
   "cell_type": "code",
   "execution_count": 92,
   "id": "30e9b786",
   "metadata": {},
   "outputs": [
    {
     "name": "stdout",
     "output_type": "stream",
     "text": [
      "Train data 817\n",
      "Test data 441\n"
     ]
    }
   ],
   "source": [
    "# Splitting the data into train and test (NOT AT RANDOM)\n",
    "train_size = int(len(df)*0.65)\n",
    "test_size = len(df)-train_size\n",
    "train_data, test_data = df[0:train_size:], df[train_size:len(df):1]\n",
    "print('Train data', len(train_data))\n",
    "print('Test data', len(test_data))"
   ]
  },
  {
   "cell_type": "code",
   "execution_count": 93,
   "id": "7008ddc7",
   "metadata": {},
   "outputs": [],
   "source": [
    "# Scaling using MinMaxScaler\n",
    "scaler = MinMaxScaler(feature_range=(0,1))\n",
    "col_scale = ['close']\n",
    "train_data = scaler.fit_transform(train_data[col_scale])\n",
    "test_data = scaler.fit_transform(test_data[col_scale])\n"
   ]
  },
  {
   "cell_type": "code",
   "execution_count": 94,
   "id": "fc92f2a5",
   "metadata": {},
   "outputs": [
    {
     "name": "stdout",
     "output_type": "stream",
     "text": [
      "Train data (817,)\n",
      "Test data (441,)\n"
     ]
    }
   ],
   "source": [
    "df_train = pd.DataFrame(train_data, columns=col_scale)\n",
    "df_test = pd.DataFrame(test_data, columns=col_scale)\n",
    "train_data = df_train['close']\n",
    "test_data = df_test['close']\n",
    "print('Train data', train_data.shape)\n",
    "print('Test data', test_data.shape)"
   ]
  },
  {
   "cell_type": "code",
   "execution_count": 95,
   "id": "e2f5eae8",
   "metadata": {},
   "outputs": [],
   "source": [
    "def create_ds(ds, timeStep=1):\n",
    "    dX, dY = [], []\n",
    "    for i in range(len(ds)-timeStep-1):\n",
    "        x = ds[i: i+timeStep]\n",
    "        dX.append(x)\n",
    "        dY.append(ds[i+timeStep])\n",
    "    return np.array(dX), np.array(dY)"
   ]
  },
  {
   "cell_type": "code",
   "execution_count": 96,
   "id": "c05a8ca9",
   "metadata": {},
   "outputs": [
    {
     "name": "stdout",
     "output_type": "stream",
     "text": [
      "Train data (716, 100) (340, 100)\n",
      "Test data (716,) (340,)\n"
     ]
    }
   ],
   "source": [
    "timeStep = 100\n",
    "X_train, y_train = create_ds(np.array(train_data), timeStep)\n",
    "X_test, y_test = create_ds(np.array(test_data), timeStep)\n",
    "print('Train data', X_train.shape, X_test.shape)\n",
    "print('Test data', y_train.shape, y_test.shape)"
   ]
  },
  {
   "cell_type": "code",
   "execution_count": 97,
   "id": "0a5ea7d1",
   "metadata": {},
   "outputs": [
    {
     "name": "stdout",
     "output_type": "stream",
     "text": [
      "Train data (716, 100, 1) (340, 100, 1)\n"
     ]
    }
   ],
   "source": [
    "# Converting [samples, timesteps] into [samples, timesteps, features]\n",
    "# Note: LSTM requires it's input data to be of 3D\n",
    "X_train = X_train.reshape(X_train.shape[0],X_train.shape[1],1)\n",
    "X_test = X_test.reshape(X_test.shape[0],X_test.shape[1],1)\n",
    "print('Train data', X_train.shape, X_test.shape)"
   ]
  },
  {
   "cell_type": "code",
   "execution_count": 98,
   "id": "545a82a7",
   "metadata": {},
   "outputs": [
    {
     "name": "stdout",
     "output_type": "stream",
     "text": [
      "Model: \"sequential_1\"\n",
      "_________________________________________________________________\n",
      " Layer (type)                Output Shape              Param #   \n",
      "=================================================================\n",
      " lstm_3 (LSTM)               (None, 100, 50)           10400     \n",
      "                                                                 \n",
      " lstm_4 (LSTM)               (None, 100, 50)           20200     \n",
      "                                                                 \n",
      " lstm_5 (LSTM)               (None, 50)                20200     \n",
      "                                                                 \n",
      " dense_1 (Dense)             (None, 1)                 51        \n",
      "                                                                 \n",
      "=================================================================\n",
      "Total params: 50,851\n",
      "Trainable params: 50,851\n",
      "Non-trainable params: 0\n",
      "_________________________________________________________________\n"
     ]
    }
   ],
   "source": [
    "model = Sequential()\n",
    "model.add(LSTM(50, return_sequences=True, input_shape=(100,1)))\n",
    "model.add(LSTM(50, return_sequences=True))\n",
    "model.add(LSTM(50))\n",
    "model.add(Dense(1))\n",
    "model.compile(loss='mean_squared_error', optimizer='adam')\n",
    "model.summary()"
   ]
  },
  {
   "cell_type": "code",
   "execution_count": 99,
   "id": "23836d11",
   "metadata": {},
   "outputs": [
    {
     "name": "stdout",
     "output_type": "stream",
     "text": [
      "Epoch 1/100\n",
      "12/12 [==============================] - 5s 169ms/step - loss: 0.0425 - val_loss: 0.0038\n",
      "Epoch 2/100\n",
      "12/12 [==============================] - 1s 102ms/step - loss: 0.0068 - val_loss: 0.0028\n",
      "Epoch 3/100\n",
      "12/12 [==============================] - 1s 100ms/step - loss: 0.0030 - val_loss: 3.8741e-04\n",
      "Epoch 4/100\n",
      "12/12 [==============================] - 1s 101ms/step - loss: 0.0025 - val_loss: 3.0925e-04\n",
      "Epoch 5/100\n",
      "12/12 [==============================] - 1s 103ms/step - loss: 0.0021 - val_loss: 4.1541e-04\n",
      "Epoch 6/100\n",
      "12/12 [==============================] - 1s 105ms/step - loss: 0.0019 - val_loss: 2.9278e-04\n",
      "Epoch 7/100\n",
      "12/12 [==============================] - 1s 105ms/step - loss: 0.0018 - val_loss: 2.8457e-04\n",
      "Epoch 8/100\n",
      "12/12 [==============================] - 1s 106ms/step - loss: 0.0017 - val_loss: 2.7359e-04\n",
      "Epoch 9/100\n",
      "12/12 [==============================] - 1s 108ms/step - loss: 0.0016 - val_loss: 2.5328e-04\n",
      "Epoch 10/100\n",
      "12/12 [==============================] - 1s 105ms/step - loss: 0.0015 - val_loss: 2.4869e-04\n",
      "Epoch 11/100\n",
      "12/12 [==============================] - 1s 102ms/step - loss: 0.0013 - val_loss: 2.4546e-04\n",
      "Epoch 12/100\n",
      "12/12 [==============================] - 1s 107ms/step - loss: 0.0014 - val_loss: 5.3750e-04\n",
      "Epoch 13/100\n",
      "12/12 [==============================] - 1s 107ms/step - loss: 0.0016 - val_loss: 3.2622e-04\n",
      "Epoch 14/100\n",
      "12/12 [==============================] - 1s 108ms/step - loss: 0.0015 - val_loss: 2.5361e-04\n",
      "Epoch 15/100\n",
      "12/12 [==============================] - 1s 103ms/step - loss: 0.0012 - val_loss: 2.5730e-04\n",
      "Epoch 16/100\n",
      "12/12 [==============================] - 1s 108ms/step - loss: 0.0011 - val_loss: 2.6259e-04\n",
      "Epoch 17/100\n",
      "12/12 [==============================] - 1s 116ms/step - loss: 9.8106e-04 - val_loss: 2.3282e-04\n",
      "Epoch 18/100\n",
      "12/12 [==============================] - 1s 112ms/step - loss: 0.0010 - val_loss: 2.6196e-04\n",
      "Epoch 19/100\n",
      "12/12 [==============================] - 2s 136ms/step - loss: 0.0010 - val_loss: 2.9190e-04\n",
      "Epoch 20/100\n",
      "12/12 [==============================] - 2s 144ms/step - loss: 9.6686e-04 - val_loss: 4.3195e-04\n",
      "Epoch 21/100\n",
      "12/12 [==============================] - 1s 113ms/step - loss: 0.0011 - val_loss: 2.2627e-04\n",
      "Epoch 22/100\n",
      "12/12 [==============================] - 1s 110ms/step - loss: 0.0014 - val_loss: 2.1014e-04\n",
      "Epoch 23/100\n",
      "12/12 [==============================] - 1s 125ms/step - loss: 9.8679e-04 - val_loss: 2.1734e-04\n",
      "Epoch 24/100\n",
      "12/12 [==============================] - 1s 110ms/step - loss: 8.8497e-04 - val_loss: 2.6764e-04\n",
      "Epoch 25/100\n",
      "12/12 [==============================] - 1s 112ms/step - loss: 9.8184e-04 - val_loss: 2.0134e-04\n",
      "Epoch 26/100\n",
      "12/12 [==============================] - 1s 107ms/step - loss: 0.0011 - val_loss: 2.0207e-04\n",
      "Epoch 27/100\n",
      "12/12 [==============================] - 1s 112ms/step - loss: 0.0011 - val_loss: 3.3271e-04\n",
      "Epoch 28/100\n",
      "12/12 [==============================] - 2s 134ms/step - loss: 0.0012 - val_loss: 4.8453e-04\n",
      "Epoch 29/100\n",
      "12/12 [==============================] - 1s 120ms/step - loss: 0.0013 - val_loss: 2.8780e-04\n",
      "Epoch 30/100\n",
      "12/12 [==============================] - 1s 111ms/step - loss: 0.0011 - val_loss: 1.9121e-04\n",
      "Epoch 31/100\n",
      "12/12 [==============================] - 1s 107ms/step - loss: 8.6930e-04 - val_loss: 1.9942e-04\n",
      "Epoch 32/100\n",
      "12/12 [==============================] - 1s 105ms/step - loss: 8.4511e-04 - val_loss: 1.9250e-04\n",
      "Epoch 33/100\n",
      "12/12 [==============================] - 1s 102ms/step - loss: 8.3288e-04 - val_loss: 1.8604e-04\n",
      "Epoch 34/100\n",
      "12/12 [==============================] - 1s 105ms/step - loss: 8.5145e-04 - val_loss: 1.8470e-04\n",
      "Epoch 35/100\n",
      "12/12 [==============================] - 1s 107ms/step - loss: 8.9805e-04 - val_loss: 2.1874e-04\n",
      "Epoch 36/100\n",
      "12/12 [==============================] - 1s 101ms/step - loss: 8.4657e-04 - val_loss: 2.5442e-04\n",
      "Epoch 37/100\n",
      "12/12 [==============================] - 1s 110ms/step - loss: 8.5322e-04 - val_loss: 1.9874e-04\n",
      "Epoch 38/100\n",
      "12/12 [==============================] - 1s 103ms/step - loss: 8.2685e-04 - val_loss: 1.7979e-04\n",
      "Epoch 39/100\n",
      "12/12 [==============================] - 1s 114ms/step - loss: 8.2648e-04 - val_loss: 1.7813e-04\n",
      "Epoch 40/100\n",
      "12/12 [==============================] - 2s 129ms/step - loss: 8.4318e-04 - val_loss: 2.8293e-04\n",
      "Epoch 41/100\n",
      "12/12 [==============================] - 1s 118ms/step - loss: 8.3093e-04 - val_loss: 1.9407e-04\n",
      "Epoch 42/100\n",
      "12/12 [==============================] - 1s 104ms/step - loss: 8.6006e-04 - val_loss: 1.8702e-04\n",
      "Epoch 43/100\n",
      "12/12 [==============================] - 1s 108ms/step - loss: 7.7311e-04 - val_loss: 1.7365e-04\n",
      "Epoch 44/100\n",
      "12/12 [==============================] - 1s 106ms/step - loss: 7.9822e-04 - val_loss: 1.8705e-04\n",
      "Epoch 45/100\n",
      "12/12 [==============================] - 1s 102ms/step - loss: 7.7241e-04 - val_loss: 1.8794e-04\n",
      "Epoch 46/100\n",
      "12/12 [==============================] - 1s 104ms/step - loss: 7.8609e-04 - val_loss: 2.6389e-04\n",
      "Epoch 47/100\n",
      "12/12 [==============================] - 1s 108ms/step - loss: 8.0300e-04 - val_loss: 1.6544e-04\n",
      "Epoch 48/100\n",
      "12/12 [==============================] - 1s 104ms/step - loss: 9.1021e-04 - val_loss: 2.1447e-04\n",
      "Epoch 49/100\n",
      "12/12 [==============================] - 1s 104ms/step - loss: 8.3418e-04 - val_loss: 1.6515e-04\n",
      "Epoch 50/100\n",
      "12/12 [==============================] - 1s 106ms/step - loss: 8.9575e-04 - val_loss: 1.6235e-04\n",
      "Epoch 51/100\n",
      "12/12 [==============================] - 1s 108ms/step - loss: 8.8116e-04 - val_loss: 3.6718e-04\n",
      "Epoch 52/100\n",
      "12/12 [==============================] - 1s 111ms/step - loss: 8.0898e-04 - val_loss: 1.8145e-04\n",
      "Epoch 53/100\n",
      "12/12 [==============================] - 1s 117ms/step - loss: 7.3600e-04 - val_loss: 1.6099e-04\n",
      "Epoch 54/100\n",
      "12/12 [==============================] - 1s 110ms/step - loss: 7.3605e-04 - val_loss: 1.6836e-04\n",
      "Epoch 55/100\n",
      "12/12 [==============================] - 1s 106ms/step - loss: 7.2114e-04 - val_loss: 1.6465e-04\n",
      "Epoch 56/100\n",
      "12/12 [==============================] - 1s 120ms/step - loss: 7.0242e-04 - val_loss: 2.0583e-04\n",
      "Epoch 57/100\n",
      "12/12 [==============================] - 1s 104ms/step - loss: 8.4071e-04 - val_loss: 2.0076e-04\n",
      "Epoch 58/100\n",
      "12/12 [==============================] - 1s 105ms/step - loss: 7.4290e-04 - val_loss: 1.5107e-04\n",
      "Epoch 59/100\n",
      "12/12 [==============================] - 1s 107ms/step - loss: 7.3962e-04 - val_loss: 2.3424e-04\n",
      "Epoch 60/100\n",
      "12/12 [==============================] - 1s 105ms/step - loss: 7.6667e-04 - val_loss: 1.7477e-04\n",
      "Epoch 61/100\n",
      "12/12 [==============================] - 1s 106ms/step - loss: 7.0378e-04 - val_loss: 1.5868e-04\n",
      "Epoch 62/100\n",
      "12/12 [==============================] - 1s 104ms/step - loss: 7.7194e-04 - val_loss: 1.7978e-04\n",
      "Epoch 63/100\n",
      "12/12 [==============================] - 1s 104ms/step - loss: 6.7650e-04 - val_loss: 1.4792e-04\n",
      "Epoch 64/100\n",
      "12/12 [==============================] - 1s 104ms/step - loss: 7.0524e-04 - val_loss: 1.6816e-04\n",
      "Epoch 65/100\n",
      "12/12 [==============================] - 1s 104ms/step - loss: 6.7416e-04 - val_loss: 1.4514e-04\n",
      "Epoch 66/100\n",
      "12/12 [==============================] - 1s 102ms/step - loss: 6.7806e-04 - val_loss: 1.4142e-04\n",
      "Epoch 67/100\n",
      "12/12 [==============================] - 1s 103ms/step - loss: 6.7975e-04 - val_loss: 2.9923e-04\n",
      "Epoch 68/100\n",
      "12/12 [==============================] - 1s 101ms/step - loss: 7.9566e-04 - val_loss: 1.3849e-04\n",
      "Epoch 69/100\n",
      "12/12 [==============================] - 1s 111ms/step - loss: 6.7715e-04 - val_loss: 1.6711e-04\n",
      "Epoch 70/100\n",
      "12/12 [==============================] - 1s 105ms/step - loss: 6.7555e-04 - val_loss: 1.3918e-04\n",
      "Epoch 71/100\n",
      "12/12 [==============================] - 1s 103ms/step - loss: 6.8821e-04 - val_loss: 1.8095e-04\n",
      "Epoch 72/100\n",
      "12/12 [==============================] - 1s 110ms/step - loss: 7.2365e-04 - val_loss: 1.4967e-04\n",
      "Epoch 73/100\n",
      "12/12 [==============================] - 1s 106ms/step - loss: 7.7391e-04 - val_loss: 1.4421e-04\n",
      "Epoch 74/100\n",
      "12/12 [==============================] - 1s 104ms/step - loss: 8.1662e-04 - val_loss: 2.4045e-04\n",
      "Epoch 75/100\n",
      "12/12 [==============================] - 1s 106ms/step - loss: 7.0202e-04 - val_loss: 1.3488e-04\n",
      "Epoch 76/100\n"
     ]
    },
    {
     "name": "stdout",
     "output_type": "stream",
     "text": [
      "12/12 [==============================] - 1s 106ms/step - loss: 6.1873e-04 - val_loss: 1.2874e-04\n",
      "Epoch 77/100\n",
      "12/12 [==============================] - 1s 103ms/step - loss: 6.5424e-04 - val_loss: 1.5538e-04\n",
      "Epoch 78/100\n",
      "12/12 [==============================] - 1s 104ms/step - loss: 6.4494e-04 - val_loss: 1.8695e-04\n",
      "Epoch 79/100\n",
      "12/12 [==============================] - 1s 113ms/step - loss: 6.5598e-04 - val_loss: 1.3253e-04\n",
      "Epoch 80/100\n",
      "12/12 [==============================] - 1s 116ms/step - loss: 6.0382e-04 - val_loss: 1.2462e-04\n",
      "Epoch 81/100\n",
      "12/12 [==============================] - 1s 105ms/step - loss: 5.8097e-04 - val_loss: 1.2378e-04\n",
      "Epoch 82/100\n",
      "12/12 [==============================] - 1s 107ms/step - loss: 6.0057e-04 - val_loss: 1.2328e-04\n",
      "Epoch 83/100\n",
      "12/12 [==============================] - 1s 106ms/step - loss: 6.1756e-04 - val_loss: 1.5177e-04\n",
      "Epoch 84/100\n",
      "12/12 [==============================] - 1s 104ms/step - loss: 6.0533e-04 - val_loss: 1.5648e-04\n",
      "Epoch 85/100\n",
      "12/12 [==============================] - 1s 111ms/step - loss: 5.7208e-04 - val_loss: 1.1864e-04\n",
      "Epoch 86/100\n",
      "12/12 [==============================] - 1s 118ms/step - loss: 5.9843e-04 - val_loss: 1.6540e-04\n",
      "Epoch 87/100\n",
      "12/12 [==============================] - 1s 111ms/step - loss: 6.0757e-04 - val_loss: 1.8538e-04\n",
      "Epoch 88/100\n",
      "12/12 [==============================] - 1s 112ms/step - loss: 6.7498e-04 - val_loss: 2.1257e-04\n",
      "Epoch 89/100\n",
      "12/12 [==============================] - 1s 106ms/step - loss: 6.0157e-04 - val_loss: 1.1599e-04\n",
      "Epoch 90/100\n",
      "12/12 [==============================] - 1s 111ms/step - loss: 5.3175e-04 - val_loss: 1.3934e-04\n",
      "Epoch 91/100\n",
      "12/12 [==============================] - 1s 105ms/step - loss: 5.4816e-04 - val_loss: 1.2982e-04\n",
      "Epoch 92/100\n",
      "12/12 [==============================] - 1s 105ms/step - loss: 5.4917e-04 - val_loss: 1.7494e-04\n",
      "Epoch 93/100\n",
      "12/12 [==============================] - 1s 103ms/step - loss: 5.8432e-04 - val_loss: 1.2515e-04\n",
      "Epoch 94/100\n",
      "12/12 [==============================] - 1s 103ms/step - loss: 5.8103e-04 - val_loss: 1.0966e-04\n",
      "Epoch 95/100\n",
      "12/12 [==============================] - 1s 102ms/step - loss: 5.2959e-04 - val_loss: 1.0818e-04\n",
      "Epoch 96/100\n",
      "12/12 [==============================] - 1s 103ms/step - loss: 5.0580e-04 - val_loss: 1.5515e-04\n",
      "Epoch 97/100\n",
      "12/12 [==============================] - 1s 108ms/step - loss: 5.1484e-04 - val_loss: 1.1924e-04\n",
      "Epoch 98/100\n",
      "12/12 [==============================] - 1s 102ms/step - loss: 4.9282e-04 - val_loss: 1.1587e-04\n",
      "Epoch 99/100\n",
      "12/12 [==============================] - 1s 102ms/step - loss: 5.1366e-04 - val_loss: 1.2976e-04\n",
      "Epoch 100/100\n",
      "12/12 [==============================] - 1s 104ms/step - loss: 5.0999e-04 - val_loss: 1.1101e-04\n"
     ]
    },
    {
     "data": {
      "text/plain": [
       "<keras.callbacks.History at 0x7f16143dbdc0>"
      ]
     },
     "execution_count": 99,
     "metadata": {},
     "output_type": "execute_result"
    }
   ],
   "source": [
    "model.fit(X_train, y_train, validation_data=(X_test,y_test), epochs=100, batch_size=64, verbose=1)"
   ]
  },
  {
   "cell_type": "code",
   "execution_count": 113,
   "id": "69c883e5",
   "metadata": {},
   "outputs": [
    {
     "data": {
      "text/plain": [
       "(716, 1)"
      ]
     },
     "metadata": {},
     "output_type": "display_data"
    },
    {
     "data": {
      "text/plain": [
       "(340, 1)"
      ]
     },
     "metadata": {},
     "output_type": "display_data"
    }
   ],
   "source": [
    "tp = model.predict(X_train)\n",
    "ttp = model.predict(X_test)\n",
    "display(tp.shape)\n",
    "display(ttp.shape)"
   ]
  },
  {
   "cell_type": "code",
   "execution_count": 114,
   "id": "dc2d6993",
   "metadata": {},
   "outputs": [],
   "source": [
    "# Inversing the scaled value for model evaluation\n",
    "train_predict = scaler.inverse_transform(tp)\n",
    "test_predict = scaler.inverse_transform(ttp)\n",
    "y_t = y_train.reshape(y_train.shape[0],1)\n",
    "y_tt = y_test.reshape(y_test.shape[0],1)\n",
    "y_t = scaler.inverse_transform(y_t)\n",
    "y_tt = scaler.inverse_transform(y_tt)"
   ]
  },
  {
   "cell_type": "code",
   "execution_count": 121,
   "id": "3168df12",
   "metadata": {},
   "outputs": [
    {
     "name": "stdout",
     "output_type": "stream",
     "text": [
      "MSE | RMSE | R2 train:  74.3131786977348 8.620509190165903 0.9881487275856594\n",
      "MSE | RMSE | R2 test:  17.694367517214314 4.206467344127886 0.9417215523134895\n"
     ]
    }
   ],
   "source": [
    "# Generating rmse on the train-test data\n",
    "rmseX = np.sqrt(mean_squared_error(y_t, train_predict))\n",
    "rmseY = np.sqrt(mean_squared_error(y_tt, test_predict))\n",
    "mseX = mean_squared_error(y_t, train_predict)\n",
    "mseY = mean_squared_error(y_tt, test_predict)\n",
    "r2X = r2_score(y_t, train_predict)\n",
    "r2Y = r2_score(y_tt, test_predict)\n",
    "print('MSE | RMSE | R2 train: ', mseX, rmseX, r2X)\n",
    "print('MSE | RMSE | R2 test: ', mseY, rmseY, r2Y)"
   ]
  },
  {
   "cell_type": "code",
   "execution_count": 116,
   "id": "0b6112ce",
   "metadata": {},
   "outputs": [
    {
     "data": {
      "image/png": "[encoded data removed]",
      "text/plain": [
       "<Figure size 432x288 with 1 Axes>"
      ]
     },
     "metadata": {
      "needs_background": "light"
     },
     "output_type": "display_data"
    }
   ],
   "source": [
    "lookBack = 100\n",
    "\n",
    "df12 = pd.concat([train_data, test_data])\n",
    "df12 = np.array(df12)\n",
    "df12 = df12.reshape(df12.shape[0],1)\n",
    "\n",
    "trainPredPlot = np.empty_like(df12)\n",
    "trainPredPlot[:,:] = np.nan\n",
    "trainPredPlot[lookBack:len(train_predict)+lookBack,:] = train_predict\n",
    "\n",
    "testPredPlot = np.empty_like(df12)\n",
    "testPredPlot[:,:] = np.nan\n",
    "testPredPlot[len(train_predict)+(lookBack*2)+1: len(df['close'])-1:] = test_predict\n",
    "\n",
    "plt.plot(df['close'])\n",
    "plt.plot(trainPredPlot)\n",
    "plt.plot(testPredPlot)\n",
    "plt.show()"
   ]
  },
  {
   "cell_type": "code",
   "execution_count": 117,
   "id": "b49377ec",
   "metadata": {},
   "outputs": [
    {
     "data": {
      "text/plain": [
       "[<matplotlib.lines.Line2D at 0x7f160c27d8e0>]"
      ]
     },
     "execution_count": 117,
     "metadata": {},
     "output_type": "execute_result"
    },
    {
     "data": {
      "image/png": "[encoded data removed]",
      "text/plain": [
       "<Figure size 432x288 with 1 Axes>"
      ]
     },
     "metadata": {
      "needs_background": "light"
     },
     "output_type": "display_data"
    }
   ],
   "source": [
    "plt.plot(df['close'])"
   ]
  },
  {
   "cell_type": "code",
   "execution_count": 329,
   "id": "bf804e75",
   "metadata": {},
   "outputs": [
    {
     "data": {
      "text/plain": [
       "22259.5919779889"
      ]
     },
     "execution_count": 329,
     "metadata": {},
     "output_type": "execute_result"
    }
   ],
   "source": []
  }
 ],
 "metadata": {
  "kernelspec": {
   "display_name": "Python 3 (ipykernel)",
   "language": "python",
   "name": "python3"
  },
  "language_info": {
   "codemirror_mode": {
    "name": "ipython",
    "version": 3
   },
   "file_extension": ".py",
   "mimetype": "text/x-python",
   "name": "python",
   "nbconvert_exporter": "python",
   "pygments_lexer": "ipython3",
   "version": "3.9.7"
  }
 },
 "nbformat": 4,
 "nbformat_minor": 5
}
